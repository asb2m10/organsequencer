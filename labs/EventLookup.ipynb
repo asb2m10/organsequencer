{
 "cells": [
  {
   "cell_type": "code",
   "execution_count": 1,
   "id": "d73ed1f3-113a-44b3-9240-35ba91fc4139",
   "metadata": {},
   "outputs": [
    {
     "name": "stdout",
     "output_type": "stream",
     "text": [
      "samplePpq 5512.5 ppqWindow 0.05877551020408163\n",
      "\n",
      "Trigger from 0.9404081632653061 1.0579591836734694 0.059591836734693926 1\n",
      "Trigger from 2.9387755102040813 3.0563265306122447 0.06122448979591866 3\n",
      "Trigger from 3.996734693877551 4.114285714285714 0.0032653061224490187 4\n",
      "Trigger from 4.937142857142857 5.05469387755102 0.06285714285714317 5\n",
      "Trigger from 6.935510204081632 7.053061224489795 0.06448979591836768 1\n",
      "Trigger from 8.933877551020407 9.05142857142857 0.06612244897959307 3\n",
      "Trigger from 9.991836734693877 10.10938775510204 0.008163265306123435 4\n",
      "Trigger from 10.932244897959183 11.049795918367346 0.0677551020408167 5\n",
      "Trigger from 12.930612244897958 13.04816326530612 0.06938775510204209 1\n",
      "Trigger from 14.928979591836734 15.046530612244897 0.07102040816326571 3\n",
      "Trigger from 15.986938775510204 16.10448979591837 0.013061224489796075 4\n",
      "Trigger from 16.92734693877551 17.044897959183675 0.07265306122448933 5\n",
      "Trigger from 18.925714285714285 19.04326530612245 0.07428571428571473 1\n",
      "Trigger from 20.92408163265306 21.041632653061225 0.07591836734694013 3\n",
      "Trigger from 21.982040816326528 22.099591836734692 0.017959183673472268 4\n",
      "Trigger from 22.922448979591834 23.04 0.07755102040816553 5\n",
      "Trigger from 24.920816326530613 25.038367346938777 0.07918367346938737 1\n",
      "Trigger from 26.919183673469387 27.036734693877552 0.08081632653061277 3\n",
      "Trigger from 27.977142857142855 28.09469387755102 0.022857142857144908 4\n",
      "Trigger from 28.917551020408162 29.035102040816327 0.08244897959183817 5\n"
     ]
    }
   ],
   "source": [
    "sampleRate = 44100\n",
    "bpm = 120\n",
    "blockSize = 324\n",
    "\n",
    "#####\n",
    "samplePpq = ( 60.0 / ( bpm * 4 ) ) * sampleRate\n",
    "ppqWindow = blockSize / samplePpq\n",
    "\n",
    "print(f\"samplePpq {samplePpq} ppqWindow {ppqWindow}\\n\")\n",
    "\n",
    "eventList = [ 0, 1, 0, 1, 1, 1, 0, 0, 0 ]\n",
    "eventSize = 6\n",
    "eventPpq = 0.5\n",
    "\n",
    "def inRange(tm) :\n",
    "\n",
    "    current = tm / eventPpq\n",
    "    next = (tm+ppqWindow) / eventPpq\n",
    "\n",
    "    testTrigger = (int(current)-current)-(int(next)-next)\n",
    "\n",
    "    if testTrigger < 0: \n",
    "        # print(f\"c {current} {next} {(int(current)-current)-(int(next)-next)} {int(current)-next}\")\n",
    "        pos = int(next) % eventSize\n",
    "        dly = float(int(next)) - current\n",
    "        \n",
    "        if eventList[pos] > 0 :\n",
    "            print(f\"Trigger from {current} {next} {dly} {pos}\")\n",
    "        \n",
    "        #print(f\"c {current} {next} {(int(current)-current)-(int(next)-next)} {int(current)-next}\")\n",
    "    # print(f\"c {int(current)-next}\")\n",
    "\n",
    "iterLoop = ppqWindow\n",
    "\n",
    "for i in range(250) :\n",
    "    i = iterLoop * i\n",
    "    inRange(i)\n"
   ]
  },
  {
   "cell_type": "code",
   "execution_count": null,
   "id": "88a94692-6324-488c-92cc-a5a5f19b646b",
   "metadata": {},
   "outputs": [],
   "source": []
  },
  {
   "cell_type": "code",
   "execution_count": 2,
   "id": "b08c9b80-e41d-4079-8410-16e385fa82d9",
   "metadata": {},
   "outputs": [
    {
     "data": {
      "text/plain": [
       "24.0"
      ]
     },
     "execution_count": 2,
     "metadata": {},
     "output_type": "execute_result"
    }
   ],
   "source": [
    "23.98043214369745 + 0.01956785630255098"
   ]
  },
  {
   "cell_type": "code",
   "execution_count": 3,
   "id": "64d6ddfb-9581-46e7-9e46-82b475b07a0c",
   "metadata": {},
   "outputs": [
    {
     "data": {
      "text/plain": [
       "96.875"
      ]
     },
     "execution_count": 3,
     "metadata": {},
     "output_type": "execute_result"
    }
   ],
   "source": [
    "(4500+4800) / 96"
   ]
  },
  {
   "cell_type": "code",
   "execution_count": 4,
   "id": "2f02bc8d-57a6-405d-9765-488083d3c7ef",
   "metadata": {},
   "outputs": [
    {
     "data": {
      "text/plain": [
       "11025.0"
      ]
     },
     "execution_count": 4,
     "metadata": {},
     "output_type": "execute_result"
    }
   ],
   "source": [
    "# PPQ vs BPM\n",
    "# MINUTE / ( BPM * PPQ )\n",
    "\n",
    "( 60 / ( 60 * 4 ) ) * (44100)"
   ]
  },
  {
   "cell_type": "code",
   "execution_count": 72,
   "id": "afc08a0e-1a64-48a0-804c-09128a49bc9a",
   "metadata": {},
   "outputs": [
    {
     "name": "stdout",
     "output_type": "stream",
     "text": [
      "(0, 0.0)\n",
      "(0, -1)\n",
      "(0, -1)\n",
      "(0, -1)\n",
      "(0, -1)\n",
      "(0, -1)\n",
      "(0, -1)\n",
      "(0, -1)\n",
      "(0, -1)\n",
      "(0, -1)\n",
      "(1, -1)\n",
      "(1, -1)\n",
      "(1, -1)\n",
      "(1, -1)\n",
      "(1, -1)\n",
      "(1, -1)\n",
      "(1, -1)\n",
      "(1, -1)\n",
      "(1, -1)\n",
      "(1, -1)\n",
      "(1, -1)\n",
      "(2, 273.0)\n",
      "(2, -1)\n",
      "(2, -1)\n",
      "(2, -1)\n",
      "(2, -1)\n",
      "(2, -1)\n",
      "(2, -1)\n",
      "(2, -1)\n",
      "(2, -1)\n",
      "(2, -1)\n",
      "(2, -1)\n",
      "(3, -1)\n",
      "(3, -1)\n",
      "(3, -1)\n",
      "(3, -1)\n",
      "(3, -1)\n",
      "(3, -1)\n",
      "(3, -1)\n",
      "(3, -1)\n",
      "(3, -1)\n",
      "(3, -1)\n",
      "(3, -1)\n",
      "(4, 33.99999999999932)\n",
      "(4, -1)\n",
      "(4, -1)\n",
      "(4, -1)\n",
      "(4, -1)\n",
      "(4, -1)\n",
      "(4, -1)\n",
      "(4, -1)\n",
      "(4, -1)\n",
      "(4, -1)\n",
      "(5, -1)\n",
      "(5, -1)\n",
      "(5, -1)\n",
      "(5, -1)\n",
      "(5, -1)\n",
      "(5, -1)\n",
      "(5, -1)\n",
      "(5, -1)\n",
      "(5, -1)\n",
      "(5, -1)\n",
      "(5, -1)\n",
      "(6, 306.9999999999993)\n",
      "(6, -1)\n",
      "(6, -1)\n",
      "(6, -1)\n",
      "(6, -1)\n",
      "(6, -1)\n",
      "(6, -1)\n",
      "(6, -1)\n",
      "(6, -1)\n",
      "(6, -1)\n",
      "(6, -1)\n",
      "(7, -1)\n",
      "(7, -1)\n",
      "(7, -1)\n",
      "(7, -1)\n",
      "(7, -1)\n",
      "(7, -1)\n",
      "(7, -1)\n",
      "(7, -1)\n",
      "(7, -1)\n",
      "(7, -1)\n",
      "(7, -1)\n",
      "(8, 67.99999999999864)\n",
      "(8, -1)\n",
      "(8, -1)\n",
      "(8, -1)\n",
      "(8, -1)\n",
      "(8, -1)\n",
      "(8, -1)\n",
      "(8, -1)\n",
      "(8, -1)\n",
      "(8, -1)\n",
      "(9, -1)\n",
      "(9, -1)\n",
      "(9, -1)\n",
      "(9, -1)\n",
      "(9, -1)\n",
      "(9, -1)\n",
      "(9, -1)\n",
      "(9, -1)\n",
      "(9, -1)\n",
      "(9, -1)\n",
      "(9, -1)\n",
      "(10, 341.0000000000035)\n",
      "(10, -1)\n",
      "(10, -1)\n",
      "(10, -1)\n",
      "(10, -1)\n",
      "(10, -1)\n",
      "(10, -1)\n",
      "(10, -1)\n",
      "(10, -1)\n",
      "(10, -1)\n",
      "(10, -1)\n",
      "(11, -1)\n",
      "(11, -1)\n",
      "(11, -1)\n",
      "(11, -1)\n",
      "(11, -1)\n",
      "(11, -1)\n",
      "(11, -1)\n",
      "(11, -1)\n",
      "(11, -1)\n",
      "(11, -1)\n",
      "(11, -1)\n",
      "(12, 101.99999999999795)\n",
      "(12, -1)\n",
      "(12, -1)\n",
      "(12, -1)\n",
      "(12, -1)\n",
      "(12, -1)\n",
      "(12, -1)\n",
      "(12, -1)\n",
      "(12, -1)\n",
      "(12, -1)\n",
      "(13, -1)\n",
      "(13, -1)\n",
      "(13, -1)\n",
      "(13, -1)\n",
      "(13, -1)\n",
      "(13, -1)\n",
      "(13, -1)\n",
      "(13, -1)\n",
      "(13, -1)\n",
      "(13, -1)\n",
      "(13, -1)\n",
      "(14, 375.00000000000284)\n",
      "(14, -1)\n",
      "(14, -1)\n",
      "(14, -1)\n",
      "(14, -1)\n",
      "(14, -1)\n",
      "(14, -1)\n",
      "(14, -1)\n",
      "(14, -1)\n",
      "(14, -1)\n",
      "(14, -1)\n",
      "(15, -1)\n",
      "(15, -1)\n",
      "(15, -1)\n",
      "(15, -1)\n",
      "(15, -1)\n",
      "(15, -1)\n",
      "(15, -1)\n",
      "(15, -1)\n",
      "(15, -1)\n",
      "(15, -1)\n",
      "(15, -1)\n",
      "(16, 135.99999999999727)\n",
      "(16, -1)\n",
      "(16, -1)\n",
      "(16, -1)\n",
      "(16, -1)\n",
      "(16, -1)\n",
      "(16, -1)\n",
      "(16, -1)\n",
      "(16, -1)\n",
      "(16, -1)\n",
      "(16, -1)\n",
      "(17, -1)\n",
      "(17, -1)\n",
      "(17, -1)\n",
      "(17, -1)\n",
      "(17, -1)\n",
      "(17, -1)\n",
      "(17, -1)\n",
      "(17, -1)\n",
      "(17, -1)\n",
      "(17, -1)\n",
      "(18, 408.9999999999924)\n",
      "(18, -1)\n",
      "(18, -1)\n",
      "(18, -1)\n",
      "(18, -1)\n",
      "(18, -1)\n",
      "(18, -1)\n",
      "(18, -1)\n",
      "(18, -1)\n",
      "(18, -1)\n",
      "(18, -1)\n",
      "(19, -1)\n",
      "(19, -1)\n",
      "(19, -1)\n",
      "(19, -1)\n",
      "(19, -1)\n",
      "(19, -1)\n",
      "(19, -1)\n",
      "(19, -1)\n",
      "(19, -1)\n",
      "(19, -1)\n",
      "(19, -1)\n",
      "(20, 169.9999999999966)\n",
      "(20, -1)\n",
      "(20, -1)\n",
      "(20, -1)\n",
      "(20, -1)\n",
      "(20, -1)\n",
      "(20, -1)\n",
      "(20, -1)\n",
      "(20, -1)\n",
      "(20, -1)\n",
      "(20, -1)\n",
      "(21, -1)\n",
      "(21, -1)\n",
      "(21, -1)\n",
      "(21, -1)\n",
      "(21, -1)\n",
      "(21, -1)\n",
      "(21, -1)\n",
      "(21, -1)\n",
      "(21, -1)\n",
      "(21, -1)\n",
      "(22, 442.9999999999917)\n",
      "(22, -1)\n",
      "(22, -1)\n",
      "(22, -1)\n",
      "(22, -1)\n",
      "(22, -1)\n",
      "(22, -1)\n",
      "(22, -1)\n",
      "(22, -1)\n",
      "(22, -1)\n",
      "(22, -1)\n",
      "(23, -1)\n",
      "(23, -1)\n",
      "(23, -1)\n",
      "(23, -1)\n",
      "(23, -1)\n",
      "(23, -1)\n",
      "(23, -1)\n",
      "(23, -1)\n",
      "(23, -1)\n"
     ]
    }
   ],
   "source": [
    "## Test class\n",
    "\n",
    "class Sequencer:\n",
    "    def __init__(self) :\n",
    "        self.sampleRate = 44100\n",
    "        self.ppqWindow = 0\n",
    "\n",
    "    def setSampleRate(self, s) :\n",
    "        self.sampleRate = s\n",
    "\n",
    "    def setPos(self, bpm, tm, blockSize) :\n",
    "        self.samplePpq = ( 60.0 / ( bpm * 4 ) ) * self.sampleRate\n",
    "        self.ppqWindow = blockSize / self.samplePpq\n",
    "        self.tm = tm\n",
    "\n",
    "    def process(self, eventList, eventSize, eventPpq):\n",
    "        current = self.tm / eventPpq\n",
    "        next = (self.tm+self.ppqWindow) / eventPpq\n",
    "        nextPos = int(next)\n",
    "        sampleTrg = -1\n",
    "        target = nextPos - current\n",
    "        sampleTrg = -1\n",
    "        \n",
    "        if target >= 0 :\n",
    "            pos = nextPos % eventSize\n",
    "            \n",
    "            if eventList[pos] > 0 :\n",
    "                sampleTrg = target * eventPpq * self.samplePpq\n",
    "        return (nextPos, sampleTrg)\n",
    "\n",
    "seq = Sequencer()\n",
    "seq.setSampleRate(44100)\n",
    "\n",
    "eventList = [ 1, 0, 1, 0, 1, 0, 0, 0, 0 ]\n",
    "eventSize = 6\n",
    "eventPpq = 1\n",
    "bpm = 180\n",
    "blockSize = 512\n",
    "\n",
    "seq.setPos(120, 0, blockSize)\n",
    "iterLoop = seq.ppqWindow\n",
    "\n",
    "for i in range(256) :\n",
    "    i = iterLoop * i\n",
    "    seq.setPos(120, i, blockSize)\n",
    "    print(seq.process(eventList, eventSize, eventPpq))"
   ]
  },
  {
   "cell_type": "code",
   "execution_count": 73,
   "id": "44328c90-96f5-4cf6-8ebf-db52f2cf02bb",
   "metadata": {},
   "outputs": [
    {
     "data": {
      "text/plain": [
       "4.0"
      ]
     },
     "execution_count": 73,
     "metadata": {},
     "output_type": "execute_result"
    }
   ],
   "source": [
    "112.5*0.035555555555555556"
   ]
  },
  {
   "cell_type": "code",
   "execution_count": 37,
   "id": "db008cc9-c921-4a86-ad64-bb2ecbce608b",
   "metadata": {},
   "outputs": [
    {
     "data": {
      "text/plain": [
       "-0.18575963718820862"
      ]
     },
     "execution_count": 37,
     "metadata": {},
     "output_type": "execute_result"
    }
   ],
   "source": [
    "int(0.18575963718820862)-0.18575963718820862"
   ]
  },
  {
   "cell_type": "code",
   "execution_count": 38,
   "id": "8a3ca803-c0b3-4eb9-a254-8424e43adbb6",
   "metadata": {},
   "outputs": [
    {
     "data": {
      "text/plain": [
       "-0.18575963718820862"
      ]
     },
     "execution_count": 38,
     "metadata": {},
     "output_type": "execute_result"
    }
   ],
   "source": [
    "0-0.0-0.18575963718820862"
   ]
  },
  {
   "cell_type": "code",
   "execution_count": 42,
   "id": "a716734a-ec7e-4c1c-b568-aa77d87c3dd8",
   "metadata": {},
   "outputs": [
    {
     "data": {
      "text/plain": [
       "0.18575963718820862"
      ]
     },
     "execution_count": 42,
     "metadata": {},
     "output_type": "execute_result"
    }
   ],
   "source": [
    "0-(int(0.18575963718820862)-0.18575963718820862)"
   ]
  },
  {
   "cell_type": "code",
   "execution_count": null,
   "id": "064dd236-0d23-46cb-88c0-47460d15132f",
   "metadata": {},
   "outputs": [],
   "source": []
  },
  {
   "cell_type": "code",
   "execution_count": null,
   "id": "0e764b60-f90c-482f-a77a-a82a23416748",
   "metadata": {},
   "outputs": [],
   "source": []
  }
 ],
 "metadata": {
  "kernelspec": {
   "display_name": "Python 3",
   "language": "python",
   "name": "python3"
  },
  "language_info": {
   "codemirror_mode": {
    "name": "ipython",
    "version": 3
   },
   "file_extension": ".py",
   "mimetype": "text/x-python",
   "name": "python",
   "nbconvert_exporter": "python",
   "pygments_lexer": "ipython3",
   "version": "3.11.5"
  }
 },
 "nbformat": 4,
 "nbformat_minor": 5
}
