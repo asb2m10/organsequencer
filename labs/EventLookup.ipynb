{
 "cells": [
  {
   "cell_type": "code",
   "execution_count": 48,
   "id": "d73ed1f3-113a-44b3-9240-35ba91fc4139",
   "metadata": {},
   "outputs": [
    {
     "name": "stdout",
     "output_type": "stream",
     "text": [
      "samplePpq 5512.5 ppqWindow 0.05877551020408163\n",
      "\n",
      "Trigger from 0.8816335346947591 0.11836646530524086 1\n",
      "Trigger from 3.8791875526569406 0.1208124473430594 1\n",
      "Trigger from 6.876741570619122 0.12325842938087828 1\n",
      "Trigger from 9.874295588581303 0.12570441141869715 1\n",
      "Trigger from 12.871849606543485 0.12815039345651513 1\n",
      "Trigger from 15.869403624505663 0.13059637549433667 1\n",
      "Trigger from 18.866957642467845 0.13304235753215465 1\n",
      "Trigger from 21.864511660430026 0.13548833956997441 1\n",
      "Trigger from 24.86206567839221 0.13793432160779062 1\n",
      "Trigger from 27.85961969635439 0.14038030364561038 1\n",
      "Trigger from 30.85717371431657 0.14282628568343014 1\n",
      "Trigger from 33.854727732278754 0.14527226772124635 1\n",
      "Trigger from 36.852281750240934 0.1477182497590661 1\n",
      "Trigger from 39.849835768203114 0.15016423179688587 1\n",
      "Trigger from 42.847389786165294 0.15261021383470563 1\n"
     ]
    }
   ],
   "source": [
    "sampleRate = 44100\n",
    "bpm = 120\n",
    "blockSize = 324\n",
    "\n",
    "#####\n",
    "samplePpq = ( 60.0 / ( bpm * 4 ) ) * sampleRate\n",
    "ppqWindow = blockSize / samplePpq\n",
    "\n",
    "print(f\"samplePpq {samplePpq} ppqWindow {ppqWindow}\\n\")\n",
    "\n",
    "eventList = [ 0, 1, 0, 0, 1, 1, 0, 0, 0 ]\n",
    "eventSize = 3\n",
    "eventPpq = 0.333333\n",
    "\n",
    "def inRange(tm) :\n",
    "\n",
    "    current = tm / eventPpq\n",
    "    next = (tm+ppqWindow) / eventPpq\n",
    "\n",
    "    testTrigger = (int(current)-current)-(int(next)-next)\n",
    "\n",
    "    if testTrigger < 0: \n",
    "        # print(f\"c {current} {next} {(int(current)-current)-(int(next)-next)} {int(current)-next}\")\n",
    "        dly = int(next) - current\n",
    "        pos = int(next) % eventSize\n",
    "\n",
    "        if eventList[pos] > 0 :\n",
    "            print(f\"Trigger from {current} {dly} {pos}\")\n",
    "        \n",
    "        #print(f\"c {current} {next} {(int(current)-current)-(int(next)-next)} {int(current)-next}\")\n",
    "    # print(f\"c {int(current)-next}\")\n",
    "\n",
    "iterLoop = ppqWindow\n",
    "\n",
    "for i in range(250) :\n",
    "    i = iterLoop * i\n",
    "    inRange(i)\n"
   ]
  },
  {
   "cell_type": "code",
   "execution_count": null,
   "id": "88a94692-6324-488c-92cc-a5a5f19b646b",
   "metadata": {},
   "outputs": [],
   "source": []
  },
  {
   "cell_type": "code",
   "execution_count": 40,
   "id": "b08c9b80-e41d-4079-8410-16e385fa82d9",
   "metadata": {},
   "outputs": [
    {
     "data": {
      "text/plain": [
       "24.0"
      ]
     },
     "execution_count": 40,
     "metadata": {},
     "output_type": "execute_result"
    }
   ],
   "source": [
    "23.98043214369745 + 0.01956785630255098"
   ]
  },
  {
   "cell_type": "code",
   "execution_count": 15,
   "id": "64d6ddfb-9581-46e7-9e46-82b475b07a0c",
   "metadata": {},
   "outputs": [
    {
     "data": {
      "text/plain": [
       "96.875"
      ]
     },
     "execution_count": 15,
     "metadata": {},
     "output_type": "execute_result"
    }
   ],
   "source": [
    "(4500+4800) / 96"
   ]
  },
  {
   "cell_type": "code",
   "execution_count": 16,
   "id": "2f02bc8d-57a6-405d-9765-488083d3c7ef",
   "metadata": {},
   "outputs": [
    {
     "data": {
      "text/plain": [
       "11025.0"
      ]
     },
     "execution_count": 16,
     "metadata": {},
     "output_type": "execute_result"
    }
   ],
   "source": [
    "# PPQ vs BPM\n",
    "# MINUTE / ( BPM * PPQ )\n",
    "\n",
    "( 60 / ( 60 * 4 ) ) * (44100)"
   ]
  },
  {
   "cell_type": "markdown",
   "id": "7a6bfebc-88ad-4c34-a484-522a4f98abfe",
   "metadata": {},
   "source": [
    "# OK PATATE \n",
    "\n",
    "Ouain c'est ca"
   ]
  }
 ],
 "metadata": {
  "kernelspec": {
   "display_name": "Python 3",
   "language": "python",
   "name": "python3"
  },
  "language_info": {
   "codemirror_mode": {
    "name": "ipython",
    "version": 3
   },
   "file_extension": ".py",
   "mimetype": "text/x-python",
   "name": "python",
   "nbconvert_exporter": "python",
   "pygments_lexer": "ipython3",
   "version": "3.11.5"
  }
 },
 "nbformat": 4,
 "nbformat_minor": 5
}
